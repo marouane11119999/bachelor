{
 "cells": [
  {
   "cell_type": "markdown",
   "metadata": {},
   "source": [
    "# This Notebook is for benchmark definition for performance metrics \n"
   ]
  },
  {
   "cell_type": "code",
   "execution_count": 1,
   "metadata": {},
   "outputs": [],
   "source": [
    "import pandas as pd\n",
    "\n",
    "benchmark = pd.DataFrame(columns=['fragebogen_700', 'fragebogen_5000', 'similarity_type'])\n",
    "f700, f5000 = pd.read_csv(r'C:\\Users\\21260\\Desktop\\Bachelorarbeit\\data\\700\\Fragebogendaten\\700.csv'),pd.read_csv(r'C:\\Users\\21260\\Desktop\\Bachelorarbeit\\data\\5000\\5000.csv')"
   ]
  },
  {
   "cell_type": "code",
   "execution_count": null,
   "metadata": {},
   "outputs": [
    {
     "data": {
      "text/plain": [
       "85"
      ]
     },
     "execution_count": 2,
     "metadata": {},
     "output_type": "execute_result"
    }
   ],
   "source": [
    "benchmark_dict = [\n",
    "    ('patienten_id_doc','record_id'), #checked\n",
    "    ('redcap_survey_identifier','redcap_survey_identifier'), #checked\n",
    "    ('long_covid_post_covid_patient_timestamp','covid_survey_timestamp'), #checked\n",
    "    ('alter','q01'), #checked\n",
    "    ('groe_e','height'), #checked\n",
    "    ('geschlecht','gender'), #checked\n",
    "    ('symptom_onset2','vac'), #checked\n",
    "    ('covid19antikoerper','pcr'), #checked\n",
    "    ('impfung_01_datum','first',), #checked\n",
    "    ('impfung_02_datum','second',), #checked\n",
    "    ('impfung_03_datum','third',), #checked\n",
    "    ('impfung_04_datum','fourth',), #checked\n",
    "    ('impfung_01_wirkstoff','first2'), #checked\n",
    "    ('impfung_02_wirkstoff','second2'), #checked\n",
    "    ('impfung_03_wirkstoff','third2'), #checked\n",
    "    ('impfung_04_wirkstoff','fourth2'), #checked\n",
    "    ('impfung_01_charge','charge',), #checked\n",
    "    ('impfung_02_charge','charge2',), #checked\n",
    "    ('impfung_03_charge','charge3',), #checked\n",
    "    ('impfung_04_charge','charge4',), #checked\n",
    "    ('grippeimpfung','inluenca'), #checked\n",
    "    ('vorerkrankungen___2','pre___1',), #checked\n",
    "    ('vorerkrankungen___3','pre___2',), #checked\n",
    "    ('vorerkrankungen___4','pre___3',), #checked\n",
    "    ('vorerkrankungen___5','pre___4',), #checked\n",
    "    ('vorerkrankungen___6','pre___5',), #checked\n",
    "    ('vorerkrankungen___7','pre___6',), #checked\n",
    "    ('vorerkrankungen___8','pre___7',), #checked\n",
    "    ('vorerkrankungen___9','pre___8',), #checked\n",
    "    ('vorerkrankungen___10','pre___9',), #checked\n",
    "    ('vorerkrankungen___11','pre___10'), #checked\n",
    "    ('vorerkrankungen___12','pre___11',), #checked\n",
    "    ('vorerkrankungen___13','pre___12',), #checked\n",
    "    ('vorerkrankungen___14','pre___13',), #checked\n",
    "    ('vorerkrankungen___15','pre___14',), #checked\n",
    "    ('vorerkrankungen___16','pre___15',), #checked\n",
    "    ('vorerkrankungen___17','pre___16',), #checked\n",
    "    ('vorerkrankungen_other','pre2,auto2',), #checked\n",
    "    ('vorerkrankungen___20','auto___1',), #checked\n",
    "    ('vorerkrankungen___26','auto___2',), #checked\n",
    "    ('vorerkrankungen___27','auto___3'), #checked\n",
    "    ('vorerkrankungen___28','auto___4',), #checked\n",
    "    ('vorerkrankungen___29','auto___5',), #checked\n",
    "    ('vorerkrankungen___30','auto___6',), #checked\n",
    "    ('vorerkrankungen___31','auto___7',), #checked\n",
    "    ('vorerkrankungen___33','auto___8',), #checked\n",
    "    ('vorerkrankungen___34','auto___9',), #checked\n",
    "    ('vorerkrankungen___35','auto___10',), #checked\n",
    "    ('vorerkrankungen___36','auto___11'), #checked\n",
    "    ('vorerkrankungen___37','auto___12',), #checked\n",
    "    ('vorerkrankungen___38','auto___13'), #checked\n",
    "    ('allergien','allergic',), #checked\n",
    "    ('allergien_other','allergic3',), #checked\n",
    "    ('nahrung_unv___1','food___1'), #checked\n",
    "    ('nahrung_unv___2','food___2'), #checked\n",
    "    ('nahrung_unv___3','food___3'), #checked\n",
    "    ('nahrung_unv___4','food___4',), #checked\n",
    "    ('nahrung_unv___5','food___7',), #checked\n",
    "    ('nahrung_others','food2',), #checked\n",
    "    ('schlaf_2','ein,durch,erhol',), #checked\n",
    "    ('gelenk_2','joint',), #checked\n",
    "    ('kopf_2','head',), #checked\n",
    "    ('konz_2','conc',), #checked\n",
    "    ('wahr_2','sense',), #checked\n",
    "    ('lesewort_2','read',), #checked\n",
    "    ('sinn_2','over',), #checked\n",
    "    ('lagewechsel_2','dizz',), #checked\n",
    "    ('darm_2','gut',), #checked\n",
    "    ('stress_2','busy',), #checked\n",
    "    ('allg_krank_2','ill'), #checked\n",
    "    ('sport_2','sports',), #checked\n",
    "    ('soz_2','social',), #checked\n",
    "    ('long_covid_post_covid_patient_complete','covid_survey_complete',), #checked\n",
    "    ('herzrasen_2','tachy'),\n",
    "    ('haut_2','symptoms___23'),\n",
    "    ('muskelschm_2','muscle'),\n",
    "    ('bluthochdruck_2','symptoms___3'),\n",
    "    ('muskeln_2,muskelschw_2','koordination'),\n",
    "    ('angst_2','symptoms___8'),\n",
    "    ('menstruation_1,menstruation_2','symptoms___27'),\n",
    "    ('dynpnose','dyspnea'),\n",
    "    ('fat_muedigkeit','tired'),\n",
    "    ('fat_aufgaben','heavy'),\n",
    "    ('fat_energie','ernergy'),\n",
    "    ('fat_konz','concentration')\n",
    "    ]\n",
    "len(benchmark_dict) #89"
   ]
  }
 ],
 "metadata": {
  "kernelspec": {
   "display_name": "Python 3",
   "language": "python",
   "name": "python3"
  },
  "language_info": {
   "codemirror_mode": {
    "name": "ipython",
    "version": 3
   },
   "file_extension": ".py",
   "mimetype": "text/x-python",
   "name": "python",
   "nbconvert_exporter": "python",
   "pygments_lexer": "ipython3",
   "version": "3.11.9"
  }
 },
 "nbformat": 4,
 "nbformat_minor": 2
}
