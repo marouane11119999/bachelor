{
 "cells": [
  {
   "cell_type": "code",
   "execution_count": 83,
   "id": "initial_id",
   "metadata": {
    "collapsed": true,
    "ExecuteTime": {
     "end_time": "2025-03-13T14:07:53.691848900Z",
     "start_time": "2025-03-13T14:07:53.519112900Z"
    }
   },
   "outputs": [],
   "source": [
    "import pandas as pd\n",
    "import numpy as np\n",
    "import random\n",
    "import re\n",
    "\n",
    "\n",
    "df = pd.read_csv('integrated_data/Fragebogen_integrated.csv')\n",
    "types = pd.read_csv('integrated_data/labels_type_integrated.csv')\n",
    "labels = pd.read_csv('integrated_data/labels_instances_integrated.csv')\n",
    "df.drop(columns=['Unnamed: 0'], axis=1,inplace=True)\n",
    "types.drop(columns=['Unnamed: 0'], axis=1,inplace=True)\n",
    "labels.drop(columns=['Unnamed: 0'], axis=1,inplace=True)\n",
    "types_dict = {key: list(value.values())[0] for key, value in types.to_dict().items()}\n",
    "labels_dict = {key: list(value.values())[0] for key, value in labels.to_dict().items()}\n",
    "\n",
    "def adjust_unchecked_and_textual_cols(df,types,labels):\n",
    "    df = df.copy()\n",
    "    for col in df.columns:\n",
    "        if types.get(col) == 'F3' and labels.get(col) == {'Unchecked', 'Checked'}:  \n",
    "            df[col] = df[col].fillna('Unchecked')\n",
    "        if types.get(col) == 'A1000':\n",
    "            df[col].fillna('Keine Angabe', inplace=True)\n",
    "            df[col] = df[col].apply(lambda x: 'Keine Angabe' \n",
    "                            if isinstance(x, str) and (x.strip() == '' or re.match(r'^[^a-zA-Z0-9\\s]+$', x)) \n",
    "                            else x)\n",
    "    return df\n",
    "\n",
    "def lowercase_dict_values(input_dict):\n",
    "    result = {}\n",
    "    for key, value in input_dict.items():\n",
    "        try:\n",
    "            evaluated_set = eval(value)\n",
    "            if isinstance(evaluated_set, set):\n",
    "                lowered_values = {item  for item in evaluated_set}\n",
    "                result[key] = lowered_values\n",
    "            else:\n",
    "                raise ValueError(\"Value is not a set.\")\n",
    "        except Exception as e:\n",
    "            print(f\"Error processing key {key}: {e}\")\n",
    "            result[key] = value\n",
    "    return result\n",
    "labels_dict = lowercase_dict_values(labels_dict)\n",
    "#df = adjust_unchecked_and_textual_cols(df,types_dict,labels_dict)\n",
    "labels_dict[\"schlaf_2.65\"] = labels_dict.pop(\"schlaf_2.66\")\n",
    "df.drop(['vorerkrankungen_other.71','schlaf_2.72'],axis=1,inplace=True)\n"
   ]
  },
  {
   "cell_type": "code",
   "outputs": [],
   "source": [
    "import pandas as pd\n",
    "import re\n",
    "\n",
    "def clean_string(input_string):\n",
    "    cleaned_string = re.sub(r'[^\\w\\s]', ' ', input_string) \n",
    "    cleaned_string = ' '.join(cleaned_string.split())\n",
    "    return cleaned_string.strip()\n",
    "\n",
    "def dice_similarity(str1, str2):\n",
    "    str1 = clean_string(str1)\n",
    "    str2 = clean_string(str2)\n",
    "    set1 = set(str1.lower().split(' '))\n",
    "    set2 = set(str2.lower().split(' '))\n",
    "    intersection = len(set1 & set2)\n",
    "    return (2 * intersection) / (len(set1) + len(set2)) if (len(set1) + len(set2)) > 0 else 0.0\n",
    "\n",
    "def remove_duplicates_and_update_df(df, labels, threshold=0.65):\n",
    "    updated_labels = {}\n",
    "    replacement_map = {}\n",
    "    for key, categories in labels.items():    \n",
    "        unique_categories = []\n",
    "        category_map = {}     \n",
    "        for category in categories:\n",
    "            found_similar = False\n",
    "            for unique_category in unique_categories:                \n",
    "                 if dice_similarity(category, unique_category) > threshold:\n",
    "                    found_similar = True\n",
    "                    category_map[category] = unique_category\n",
    "                    break\n",
    "            if not found_similar:\n",
    "                unique_categories.append(category)\n",
    "                category_map[category] = category\n",
    "        \n",
    "        updated_labels[key] = set(unique_categories)\n",
    "        replacement_map[key] = category_map\n",
    "    for key, mapping in replacement_map.items():\n",
    "        if key in df.columns:\n",
    "            df[key] = df[key].replace(mapping)\n",
    "    \n",
    "    return updated_labels, df\n",
    "updated_labels, updated_df = remove_duplicates_and_update_df(df.copy(), labels_dict, threshold=0.75)"
   ],
   "metadata": {
    "collapsed": false,
    "ExecuteTime": {
     "end_time": "2025-03-13T14:07:56.977060800Z",
     "start_time": "2025-03-13T14:07:56.891493400Z"
    }
   },
   "id": "80753ba424ab2d0b",
   "execution_count": 84
  },
  {
   "cell_type": "code",
   "outputs": [],
   "source": [
    "import uuid\n",
    "\n",
    "def generate_unique_value(row, length):\n",
    "    # Check if all values in the row are 'nan' and length matches\n",
    "    if all(val == 'nan' for val in row) and len(row) == length:\n",
    "        # Generate a random UUID\n",
    "        return str(uuid.uuid4())\n",
    "    return ''.join(row)  # Combine the row values if the condition is not met\n",
    "\n",
    "def generate_unique_value(row, length):\n",
    "    # Check if the value is entirely 'nan' repeated to the specified length\n",
    "    if row == ('nan' * length):\n",
    "        # Generate a random UUID\n",
    "        return str(uuid.uuid4())\n",
    "    return row\n",
    "blockers = [col for col in updated_df.columns if col != 'source']\n",
    "updated_df['blocker'] = (\n",
    "        updated_df[blockers]\n",
    "        .astype(str)\n",
    "        .agg(lambda row: ''.join(val[0] for val in row), axis=1)  # Take first character\n",
    "        .str.lower()\n",
    "        .str.replace(' ', '', regex=True)\n",
    "        .apply(generate_unique_value, args=(len(blockers),))\n",
    "    )"
   ],
   "metadata": {
    "collapsed": false,
    "ExecuteTime": {
     "end_time": "2025-03-13T14:09:06.300818500Z",
     "start_time": "2025-03-13T14:09:06.127443300Z"
    }
   },
   "id": "7d0c8ce7ef5a84ee",
   "execution_count": 89
  },
  {
   "cell_type": "code",
   "outputs": [
    {
     "data": {
      "text/plain": "     long_covid_post_covid_patient_timestamp  alter  groe_e geschlecht  \\\n0                        2022-06-13 11:19:01   29.0   175.0   Männlich   \n1                        2022-06-13 11:21:15   29.0   175.0   Männlich   \n2                        2022-06-13 11:22:22   29.0   165.0   Weiblich   \n3                        2022-06-13 11:24:42   39.0   155.0   Weiblich   \n4                        2022-06-13 11:25:16   39.0   175.0   Weiblich   \n...                                      ...    ...     ...        ...   \n5048                                     NaN   78.0   194.0   Männlich   \n5049                                     NaN    NaN   158.0   Männlich   \n5050                                     NaN    NaN     NaN        NaN   \n5051                                     NaN    NaN     NaN        NaN   \n5052                                     NaN    NaN     NaN        NaN   \n\n     impfung_01_wirkstoff impfung_02_wirkstoff impfung_03_wirkstoff  \\\n0         Johnson&Johnson                  NaN                  NaN   \n1                 Moderna                  NaN                  NaN   \n2         Biontech/Pfizer      Biontech/Pfizer                  NaN   \n3         Biontech/Pfizer      Biontech/Pfizer                  NaN   \n4         Biontech/Pfizer      Biontech/Pfizer                  NaN   \n...                   ...                  ...                  ...   \n5048          AstraZeneca          AstraZeneca              Moderna   \n5049                  NaN                  NaN                  NaN   \n5050      Biontech/Pfizer      Biontech/Pfizer      Biontech/Pfizer   \n5051      Biontech/Pfizer      Biontech/Pfizer                  NaN   \n5052      Biontech/Pfizer      Biontech/Pfizer                  NaN   \n\n     impfung_04_wirkstoff impfung_01_charge impfung_02_charge  ...    wahr_2  \\\n0                     NaN             XE395               NaN  ...        Ja   \n1                     NaN           3003606               NaN  ...      Nein   \n2                     NaN             Scvc6             Scrp9  ...        Ja   \n3                     NaN            EW8904            1C008A  ...        Ja   \n4                     NaN            EX8680            FD7985  ...        Ja   \n...                   ...               ...               ...  ...       ...   \n5048              Moderna               NaN               NaN  ...       NaN   \n5049                  NaN               NaN               NaN  ...       Nie   \n5050                  NaN               NaN               NaN  ...  Manchmal   \n5051                  NaN               NaN               NaN  ...       NaN   \n5052                  NaN               NaN               NaN  ...       NaN   \n\n     lesewort_2 schlaf_2.65 sinn_2                     sport_2  \\\n0          Nein          Ja   Nein  Extrem stark eingeschränkt   \n1            Ja          Ja   Nein  Extrem stark eingeschränkt   \n2          Nein        Nein   Nein               Eingeschränkt   \n3            Ja        Nein     Ja  Extrem stark eingeschränkt   \n4          Nein          Ja     Ja  Extrem stark eingeschränkt   \n...         ...         ...    ...                         ...   \n5048        NaN         NaN    NaN               Eingeschränkt   \n5049   Manchmal         Nie    Nie             Uneingeschränkt   \n5050   Manchmal         Nie    Nie               Eingeschränkt   \n5051        NaN         NaN    NaN  Extrem stark eingeschränkt   \n5052        NaN         NaN    NaN  Extrem stark eingeschränkt   \n\n                           soz_2 long_covid_post_covid_patient_complete  \\\n0                  Eingeschränkt                               Complete   \n1                  Eingeschränkt                               Complete   \n2                Uneingeschränkt                               Complete   \n3                  Eingeschränkt                               Complete   \n4                  Eingeschränkt                               Complete   \n...                          ...                                    ...   \n5048               Eingeschränkt                               Complete   \n5049             Uneingeschränkt                               Complete   \n5050             Uneingeschränkt                               Complete   \n5051  Extrem stark eingeschränkt                               Complete   \n5052  Extrem stark eingeschränkt                               Complete   \n\n     menstruation       source  \\\n0       Unchecked  Dataframe_2   \n1       Unchecked  Dataframe_2   \n2         Checked  Dataframe_2   \n3       Unchecked  Dataframe_2   \n4         Checked  Dataframe_2   \n...           ...          ...   \n5048    Unchecked  Dataframe_1   \n5049    Unchecked  Dataframe_1   \n5050    Unchecked  Dataframe_1   \n5051    Unchecked  Dataframe_1   \n5052    Unchecked  Dataframe_1   \n\n                                                blocker  \n0     221mjnnnxnnn2nnn1nuuuuuuuuuuuuuuuuuuuuuuuuuuuu...  \n1     221mmnnn3nnn2nnn1ncuuuuuuuuuuuuuuuuuuuuuuuuuuu...  \n2     221wbbnnssnn22nn1nuuuuuuuuuuuuuuuuuuuuuuuuuuuu...  \n3     231wbbnne1nn22nn1nuuuuuuuuuuuuuuuuuuuuuuuuuuuu...  \n4     231wbbnnefnn22nn1nuuuuuuuuuuuuuuuuuuuuuuuuuuuu...  \n...                                                 ...  \n5048  n71maammnnnn22221juuuuuuuuuuuuuuuuuuuuuuuuuuuu...  \n5049  nn1mnnnnnnnnnnnn3nuuuuuuuucuuuuuuuuuuuuuuuuuuu...  \n5050  nnnnbbbnnnnn222n1nuuuuuuuuuuuuuuuuuuuuuuuuuuuu...  \n5051  nnnnbbnnnnnn22nn1nuuuuuuuuuuuuuuuuuuuuuuuuuuuu...  \n5052  nnnnbbnnnnnn22nn1nuuuuuuuuuuuuuuuuuuuuuuuuuuuu...  \n\n[5053 rows x 73 columns]",
      "text/html": "<div>\n<style scoped>\n    .dataframe tbody tr th:only-of-type {\n        vertical-align: middle;\n    }\n\n    .dataframe tbody tr th {\n        vertical-align: top;\n    }\n\n    .dataframe thead th {\n        text-align: right;\n    }\n</style>\n<table border=\"1\" class=\"dataframe\">\n  <thead>\n    <tr style=\"text-align: right;\">\n      <th></th>\n      <th>long_covid_post_covid_patient_timestamp</th>\n      <th>alter</th>\n      <th>groe_e</th>\n      <th>geschlecht</th>\n      <th>impfung_01_wirkstoff</th>\n      <th>impfung_02_wirkstoff</th>\n      <th>impfung_03_wirkstoff</th>\n      <th>impfung_04_wirkstoff</th>\n      <th>impfung_01_charge</th>\n      <th>impfung_02_charge</th>\n      <th>...</th>\n      <th>wahr_2</th>\n      <th>lesewort_2</th>\n      <th>schlaf_2.65</th>\n      <th>sinn_2</th>\n      <th>sport_2</th>\n      <th>soz_2</th>\n      <th>long_covid_post_covid_patient_complete</th>\n      <th>menstruation</th>\n      <th>source</th>\n      <th>blocker</th>\n    </tr>\n  </thead>\n  <tbody>\n    <tr>\n      <th>0</th>\n      <td>2022-06-13 11:19:01</td>\n      <td>29.0</td>\n      <td>175.0</td>\n      <td>Männlich</td>\n      <td>Johnson&amp;Johnson</td>\n      <td>NaN</td>\n      <td>NaN</td>\n      <td>NaN</td>\n      <td>XE395</td>\n      <td>NaN</td>\n      <td>...</td>\n      <td>Ja</td>\n      <td>Nein</td>\n      <td>Ja</td>\n      <td>Nein</td>\n      <td>Extrem stark eingeschränkt</td>\n      <td>Eingeschränkt</td>\n      <td>Complete</td>\n      <td>Unchecked</td>\n      <td>Dataframe_2</td>\n      <td>221mjnnnxnnn2nnn1nuuuuuuuuuuuuuuuuuuuuuuuuuuuu...</td>\n    </tr>\n    <tr>\n      <th>1</th>\n      <td>2022-06-13 11:21:15</td>\n      <td>29.0</td>\n      <td>175.0</td>\n      <td>Männlich</td>\n      <td>Moderna</td>\n      <td>NaN</td>\n      <td>NaN</td>\n      <td>NaN</td>\n      <td>3003606</td>\n      <td>NaN</td>\n      <td>...</td>\n      <td>Nein</td>\n      <td>Ja</td>\n      <td>Ja</td>\n      <td>Nein</td>\n      <td>Extrem stark eingeschränkt</td>\n      <td>Eingeschränkt</td>\n      <td>Complete</td>\n      <td>Unchecked</td>\n      <td>Dataframe_2</td>\n      <td>221mmnnn3nnn2nnn1ncuuuuuuuuuuuuuuuuuuuuuuuuuuu...</td>\n    </tr>\n    <tr>\n      <th>2</th>\n      <td>2022-06-13 11:22:22</td>\n      <td>29.0</td>\n      <td>165.0</td>\n      <td>Weiblich</td>\n      <td>Biontech/Pfizer</td>\n      <td>Biontech/Pfizer</td>\n      <td>NaN</td>\n      <td>NaN</td>\n      <td>Scvc6</td>\n      <td>Scrp9</td>\n      <td>...</td>\n      <td>Ja</td>\n      <td>Nein</td>\n      <td>Nein</td>\n      <td>Nein</td>\n      <td>Eingeschränkt</td>\n      <td>Uneingeschränkt</td>\n      <td>Complete</td>\n      <td>Checked</td>\n      <td>Dataframe_2</td>\n      <td>221wbbnnssnn22nn1nuuuuuuuuuuuuuuuuuuuuuuuuuuuu...</td>\n    </tr>\n    <tr>\n      <th>3</th>\n      <td>2022-06-13 11:24:42</td>\n      <td>39.0</td>\n      <td>155.0</td>\n      <td>Weiblich</td>\n      <td>Biontech/Pfizer</td>\n      <td>Biontech/Pfizer</td>\n      <td>NaN</td>\n      <td>NaN</td>\n      <td>EW8904</td>\n      <td>1C008A</td>\n      <td>...</td>\n      <td>Ja</td>\n      <td>Ja</td>\n      <td>Nein</td>\n      <td>Ja</td>\n      <td>Extrem stark eingeschränkt</td>\n      <td>Eingeschränkt</td>\n      <td>Complete</td>\n      <td>Unchecked</td>\n      <td>Dataframe_2</td>\n      <td>231wbbnne1nn22nn1nuuuuuuuuuuuuuuuuuuuuuuuuuuuu...</td>\n    </tr>\n    <tr>\n      <th>4</th>\n      <td>2022-06-13 11:25:16</td>\n      <td>39.0</td>\n      <td>175.0</td>\n      <td>Weiblich</td>\n      <td>Biontech/Pfizer</td>\n      <td>Biontech/Pfizer</td>\n      <td>NaN</td>\n      <td>NaN</td>\n      <td>EX8680</td>\n      <td>FD7985</td>\n      <td>...</td>\n      <td>Ja</td>\n      <td>Nein</td>\n      <td>Ja</td>\n      <td>Ja</td>\n      <td>Extrem stark eingeschränkt</td>\n      <td>Eingeschränkt</td>\n      <td>Complete</td>\n      <td>Checked</td>\n      <td>Dataframe_2</td>\n      <td>231wbbnnefnn22nn1nuuuuuuuuuuuuuuuuuuuuuuuuuuuu...</td>\n    </tr>\n    <tr>\n      <th>...</th>\n      <td>...</td>\n      <td>...</td>\n      <td>...</td>\n      <td>...</td>\n      <td>...</td>\n      <td>...</td>\n      <td>...</td>\n      <td>...</td>\n      <td>...</td>\n      <td>...</td>\n      <td>...</td>\n      <td>...</td>\n      <td>...</td>\n      <td>...</td>\n      <td>...</td>\n      <td>...</td>\n      <td>...</td>\n      <td>...</td>\n      <td>...</td>\n      <td>...</td>\n      <td>...</td>\n    </tr>\n    <tr>\n      <th>5048</th>\n      <td>NaN</td>\n      <td>78.0</td>\n      <td>194.0</td>\n      <td>Männlich</td>\n      <td>AstraZeneca</td>\n      <td>AstraZeneca</td>\n      <td>Moderna</td>\n      <td>Moderna</td>\n      <td>NaN</td>\n      <td>NaN</td>\n      <td>...</td>\n      <td>NaN</td>\n      <td>NaN</td>\n      <td>NaN</td>\n      <td>NaN</td>\n      <td>Eingeschränkt</td>\n      <td>Eingeschränkt</td>\n      <td>Complete</td>\n      <td>Unchecked</td>\n      <td>Dataframe_1</td>\n      <td>n71maammnnnn22221juuuuuuuuuuuuuuuuuuuuuuuuuuuu...</td>\n    </tr>\n    <tr>\n      <th>5049</th>\n      <td>NaN</td>\n      <td>NaN</td>\n      <td>158.0</td>\n      <td>Männlich</td>\n      <td>NaN</td>\n      <td>NaN</td>\n      <td>NaN</td>\n      <td>NaN</td>\n      <td>NaN</td>\n      <td>NaN</td>\n      <td>...</td>\n      <td>Nie</td>\n      <td>Manchmal</td>\n      <td>Nie</td>\n      <td>Nie</td>\n      <td>Uneingeschränkt</td>\n      <td>Uneingeschränkt</td>\n      <td>Complete</td>\n      <td>Unchecked</td>\n      <td>Dataframe_1</td>\n      <td>nn1mnnnnnnnnnnnn3nuuuuuuuucuuuuuuuuuuuuuuuuuuu...</td>\n    </tr>\n    <tr>\n      <th>5050</th>\n      <td>NaN</td>\n      <td>NaN</td>\n      <td>NaN</td>\n      <td>NaN</td>\n      <td>Biontech/Pfizer</td>\n      <td>Biontech/Pfizer</td>\n      <td>Biontech/Pfizer</td>\n      <td>NaN</td>\n      <td>NaN</td>\n      <td>NaN</td>\n      <td>...</td>\n      <td>Manchmal</td>\n      <td>Manchmal</td>\n      <td>Nie</td>\n      <td>Nie</td>\n      <td>Eingeschränkt</td>\n      <td>Uneingeschränkt</td>\n      <td>Complete</td>\n      <td>Unchecked</td>\n      <td>Dataframe_1</td>\n      <td>nnnnbbbnnnnn222n1nuuuuuuuuuuuuuuuuuuuuuuuuuuuu...</td>\n    </tr>\n    <tr>\n      <th>5051</th>\n      <td>NaN</td>\n      <td>NaN</td>\n      <td>NaN</td>\n      <td>NaN</td>\n      <td>Biontech/Pfizer</td>\n      <td>Biontech/Pfizer</td>\n      <td>NaN</td>\n      <td>NaN</td>\n      <td>NaN</td>\n      <td>NaN</td>\n      <td>...</td>\n      <td>NaN</td>\n      <td>NaN</td>\n      <td>NaN</td>\n      <td>NaN</td>\n      <td>Extrem stark eingeschränkt</td>\n      <td>Extrem stark eingeschränkt</td>\n      <td>Complete</td>\n      <td>Unchecked</td>\n      <td>Dataframe_1</td>\n      <td>nnnnbbnnnnnn22nn1nuuuuuuuuuuuuuuuuuuuuuuuuuuuu...</td>\n    </tr>\n    <tr>\n      <th>5052</th>\n      <td>NaN</td>\n      <td>NaN</td>\n      <td>NaN</td>\n      <td>NaN</td>\n      <td>Biontech/Pfizer</td>\n      <td>Biontech/Pfizer</td>\n      <td>NaN</td>\n      <td>NaN</td>\n      <td>NaN</td>\n      <td>NaN</td>\n      <td>...</td>\n      <td>NaN</td>\n      <td>NaN</td>\n      <td>NaN</td>\n      <td>NaN</td>\n      <td>Extrem stark eingeschränkt</td>\n      <td>Extrem stark eingeschränkt</td>\n      <td>Complete</td>\n      <td>Unchecked</td>\n      <td>Dataframe_1</td>\n      <td>nnnnbbnnnnnn22nn1nuuuuuuuuuuuuuuuuuuuuuuuuuuuu...</td>\n    </tr>\n  </tbody>\n</table>\n<p>5053 rows × 73 columns</p>\n</div>"
     },
     "execution_count": 90,
     "metadata": {},
     "output_type": "execute_result"
    }
   ],
   "source": [
    "updated_df"
   ],
   "metadata": {
    "collapsed": false,
    "ExecuteTime": {
     "end_time": "2025-03-13T14:09:09.405003Z",
     "start_time": "2025-03-13T14:09:09.356362900Z"
    }
   },
   "id": "eb31ae925f0632b8",
   "execution_count": 90
  },
  {
   "cell_type": "code",
   "outputs": [],
   "source": [
    "def errors_first_col(df):\n",
    "    nan_rows = df[df['long_covid_post_covid_patient_timestamp'].isna()]\n",
    "    result_dict = {}\n",
    "    for row_index in nan_rows.index:\n",
    "        col_index = df.columns.get_loc('long_covid_post_covid_patient_timestamp')  \n",
    "        result_dict[(row_index, col_index)] = 'N/A'\n",
    "    return result_dict\n",
    "\n",
    "def errors_second_third_col(df):\n",
    "    columns = ['alter', 'groe_e']\n",
    "    error_indices = {}\n",
    "    for column in columns:\n",
    "        col_idx = df.columns.get_loc(column)\n",
    "        for idx in df[df[column].isna() | (df[column] == 0)].index:\n",
    "                error_indices[(idx, col_idx)] = 'N/A' if pd.isna(df.at[idx, column]) else df.at[idx, column]\n",
    "            \n",
    "    return error_indices\n",
    "\n",
    "def errors_categorical(df,labels):\n",
    "    columns = ['geschlecht','grippeimpfung','allergien','darm_2',\n",
    "       'muskelschm_2', 'konz_2', 'allg_krank_2', 'lagewechsel_2', 'kopf_2',\n",
    "       'gelenk_2', 'wahr_2', 'lesewort_2', 'schlaf_2.65', 'sinn_2', 'sport_2',\n",
    "       'soz_2', 'long_covid_post_covid_patient_complete']\n",
    "\n",
    "    errors_dict = {}\n",
    "    for col in columns:\n",
    "        valid_values = labels.get(col, set())  \n",
    "        col_idx = df.columns.get_loc(col)\n",
    "        for idx, value in df[col].items():\n",
    "            if pd.isna(value):\n",
    "                errors_dict[(idx, col_idx)] = 'N/A'\n",
    "            elif value.lower() not in [valid.lower() for valid in valid_values]:\n",
    "                errors_dict[(idx, col_idx)] = value\n",
    "    return errors_dict\n",
    "\n",
    "def errors_menstruation(df):\n",
    "    result_dict = {}\n",
    "    nan_rows = df[df['menstruation'].isna()]\n",
    "    for row_index in nan_rows.index:\n",
    "        col_index = df.columns.get_loc('menstruation')\n",
    "        result_dict[(row_index, col_index)] = 'N/A'\n",
    "    \n",
    "    invalid_rows = df[(df['menstruation'] == 'Checked') & (df['geschlecht'] == 'Männlich')]\n",
    "    for row_index in invalid_rows.index:\n",
    "        col_index = df.columns.get_loc('menstruation')  # Get the column index for 'menstruation'\n",
    "        result_dict[(row_index, col_index)] = 'Checked'\n",
    "\n",
    "    return result_dict"
   ],
   "metadata": {
    "collapsed": false,
    "ExecuteTime": {
     "end_time": "2025-02-22T15:14:41.008391700Z",
     "start_time": "2025-02-22T15:14:40.987395500Z"
    }
   },
   "id": "ac15aef54ada5fda",
   "execution_count": 111
  },
  {
   "cell_type": "code",
   "outputs": [],
   "source": [
    "def is_valid_charge(charge):\n",
    "    charge = str(charge).lower()\n",
    "    if pd.isna(charge): \n",
    "        return False\n",
    "    if charge.startswith('ch'):\n",
    "        return True\n",
    "    if any(c.isalpha() for c in charge) and any(c.isdigit() for c in charge):\n",
    "        return True\n",
    "    if charge.isdigit():\n",
    "        return True\n",
    "    return False\n",
    "\n",
    "def impfung_error(df, col_number):\n",
    "    wirkstoff_col = f'impfung_0{col_number}_wirkstoff'\n",
    "    datum_col = f'impfung_0{col_number}_datum'\n",
    "    charge_col = f'impfung_0{col_number}_charge'\n",
    "    \n",
    "    error_dict = {}\n",
    "    valid_wirkstoffe = {'AstraZeneca',\n",
    "  'Biontech/Pfizer',\n",
    "  'Johnson&Johnson',\n",
    "  'Moderna',\n",
    "  'Novavax',\n",
    "  }\n",
    "\n",
    "    def get_value_or_na(value):\n",
    "        return 'N/A' if pd.isna(value) else value\n",
    "\n",
    "    \n",
    "    for row_index, row in df.iterrows():\n",
    "        \n",
    "        wirkstoff = row[wirkstoff_col]\n",
    "        datum = row[datum_col]\n",
    "        charge = row[charge_col]\n",
    "        if wirkstoff == 'keine':\n",
    "            # Condition 1: datum is NaN and charge is valid\n",
    "            if pd.isna(datum) and is_valid_charge(charge):\n",
    "                \n",
    "                error_dict[(row_index, df.columns.get_loc(datum_col))] = get_value_or_na(datum)\n",
    "                error_dict[(row_index, df.columns.get_loc(wirkstoff_col))] = get_value_or_na(wirkstoff)\n",
    "\n",
    "            # Condition 2: datum is not NaN and charge is not valid\n",
    "            elif not pd.isna(datum) and not is_valid_charge(charge):\n",
    "                error_dict[(row_index, df.columns.get_loc(wirkstoff_col))] = get_value_or_na(wirkstoff)\n",
    "                error_dict[(row_index, df.columns.get_loc(charge_col))] = get_value_or_na(charge)\n",
    "\n",
    "            # Condition 3: datum is not NaN and charge is valid\n",
    "            elif not pd.isna(datum) and is_valid_charge(charge):\n",
    "                error_dict[(row_index, df.columns.get_loc(wirkstoff_col))] = get_value_or_na(wirkstoff)\n",
    "\n",
    "        if wirkstoff in valid_wirkstoffe:\n",
    "            # Condition 1: datum is NaN and charge is valid\n",
    "            if pd.isna(datum) and not is_valid_charge(charge):\n",
    "                error_dict[(row_index, df.columns.get_loc(datum_col))] = get_value_or_na(datum)\n",
    "                error_dict[(row_index, df.columns.get_loc(charge_col))] = get_value_or_na(charge)\n",
    "                \n",
    "            elif pd.isna(datum) and is_valid_charge(charge):\n",
    "                error_dict[(row_index, df.columns.get_loc(datum_col))] = get_value_or_na(datum)\n",
    "\n",
    "            # Condition 2: datum is NaN and charge is not valid\n",
    "            elif pd.isna(datum) and not is_valid_charge(charge):\n",
    "                error_dict[(row_index, df.columns.get_loc(datum_col))] = get_value_or_na(datum)\n",
    "                error_dict[(row_index, df.columns.get_loc(charge_col))] = get_value_or_na(charge)\n",
    "\n",
    "            # Condition 3: datum is not NaN and charge is not valid\n",
    "            elif not pd.isna(datum) and not is_valid_charge(charge):\n",
    "                error_dict[(row_index, df.columns.get_loc(charge_col))] = get_value_or_na(charge)\n",
    "\n",
    "        if pd.isna(wirkstoff):\n",
    "            error_dict[(row_index, df.columns.get_loc(wirkstoff_col))] = get_value_or_na(wirkstoff)\n",
    "\n",
    "            # Condition 2: datum is NaN and charge is valid\n",
    "            if pd.isna(datum) and is_valid_charge(charge):\n",
    "                #error_dict[(row_index, df.columns.get_loc(wirkstoff_col))] = get_value_or_na(wirkstoff)\n",
    "                error_dict[(row_index, df.columns.get_loc(datum_col))] = get_value_or_na(datum)\n",
    "\n",
    "            # Condition 3: datum is not NaN and charge is invalid\n",
    "            elif not pd.isna(datum) and not is_valid_charge(charge):\n",
    "                #error_dict[(row_index, df.columns.get_loc(wirkstoff_col))] = get_value_or_na(wirkstoff)\n",
    "                error_dict[(row_index, df.columns.get_loc(charge_col))] = get_value_or_na(charge)\n",
    "                error_dict[(row_index, df.columns.get_loc(datum_col))] = get_value_or_na(datum)\n",
    "\n",
    "        \n",
    "\n",
    "    return error_dict\n",
    "\n",
    "\n",
    "def all_impfung_error(df):\n",
    "    errors_dict = {}\n",
    "    for i in range(4):\n",
    "        errors_dict.update(impfung_error(df,i+1))\n",
    "    return errors_dict\n",
    "\n",
    "def is_valid_date(value):\n",
    "    try:\n",
    "        date = pd.to_datetime(value, format='%Y-%m-%d', errors='raise')\n",
    "        return 2020 <= date.year <= 2024\n",
    "    except ValueError:\n",
    "        return False\n",
    "\n",
    "\n",
    "def check_vaccination_dates(df):\n",
    "    # Columns to check\n",
    "    columns = ['impfung_01_datum', 'impfung_02_datum', 'impfung_03_datum', 'impfung_04_datum']\n",
    "    error_dict = {}\n",
    "\n",
    "  \n",
    "    for row_index, row in df.iterrows():\n",
    "        dates = {}\n",
    "        for col in columns:\n",
    "            value = row[col]\n",
    "            \n",
    "            if not pd.isna(value):\n",
    "                if is_valid_date(value):\n",
    "                    dates[col] = pd.to_datetime(value, format='%Y-%m-%d')\n",
    "                else:\n",
    "                    error_dict[(row_index, df.columns.get_loc(col))] = value\n",
    "\n",
    "        date_list = list(dates.items())\n",
    "        for i, (col1, date1) in enumerate(date_list):\n",
    "            for j, (col2, date2) in enumerate(date_list):\n",
    "                if i < j and date1 >= date2:\n",
    "                    error_dict[(row_index, df.columns.get_loc(col2))] = row[col2]\n",
    "                \n",
    "    return error_dict"
   ],
   "metadata": {
    "collapsed": false,
    "ExecuteTime": {
     "end_time": "2025-02-22T14:36:54.791760800Z",
     "start_time": "2025-02-22T14:36:54.771761300Z"
    }
   },
   "id": "f0b098f91f95fb70",
   "execution_count": 103
  },
  {
   "cell_type": "code",
   "outputs": [],
   "source": [
    "def detect_error_textual(df):\n",
    "    error_dict = {}\n",
    "    special_char_pattern = re.compile(r'[^a-zA-ZäöüÄÖÜß0-9,\\s]')  # Matches special characters except comma\n",
    "    und_pattern = re.compile(r'\\bund\\b', re.IGNORECASE)  # Matches 'und' as a standalone word\n",
    "    mit_pattern = re.compile(r'\\bmit\\b', re.IGNORECASE)\n",
    "    columns = ['vorerkrankungen_other.47','allergien_other', 'nahrung_others']\n",
    "    \n",
    "    for col in columns:\n",
    "        if col in df.columns:\n",
    "            col_idx = df.columns.get_loc(col)  # Get column index\n",
    "            for index, value in df[col].astype(str).items():\n",
    "                if special_char_pattern.search(value) or und_pattern.search(value) or mit_pattern.search(value):\n",
    "                    error_dict[(index, col_idx)] = value\n",
    "    \n",
    "    return error_dict\n",
    "    "
   ],
   "metadata": {
    "collapsed": false,
    "ExecuteTime": {
     "end_time": "2025-02-22T14:36:59.136958Z",
     "start_time": "2025-02-22T14:36:59.116959900Z"
    }
   },
   "id": "230e850fa88cc6ad",
   "execution_count": 104
  },
  {
   "cell_type": "code",
   "outputs": [],
   "source": [
    "errors = {}\n",
    "errors.update(errors_first_col(updated_df))\n",
    "errors.update(errors_second_third_col(updated_df))\n",
    "errors.update(errors_categorical(updated_df,updated_labels))\n",
    "errors.update(errors_menstruation(updated_df))\n",
    "errors.update(all_impfung_error(updated_df))\n",
    "errors.update(check_vaccination_dates(updated_df))\n",
    "errors.update(detect_error_textual(updated_df))"
   ],
   "metadata": {
    "collapsed": false,
    "ExecuteTime": {
     "end_time": "2025-02-22T14:37:05.970472900Z",
     "start_time": "2025-02-22T14:37:01.110779Z"
    }
   },
   "id": "cc8a64c4300d8b1f",
   "execution_count": 105
  },
  {
   "cell_type": "code",
   "outputs": [
    {
     "data": {
      "text/plain": "    long_covid_post_covid_patient_timestamp  alter  groe_e geschlecht  \\\n0                       2022-06-24 23:26:51   49.0   155.0   weiblich   \n1                       2022-06-13 11:25:29   39.0   165.0   weiblich   \n2                       2022-06-13 11:28:16   39.0   175.0   weiblich   \n3                       2022-06-25 11:36:16   29.0   175.0   weiblich   \n4                       2022-06-13 11:36:43   49.0   155.0   weiblich   \n..                                      ...    ...     ...        ...   \n438                     2022-06-24 18:09:48   29.0   165.0   weiblich   \n439                     2022-06-24 19:44:16   29.0   185.0   Männlich   \n440                     2022-06-24 20:19:27   59.0   175.0   Männlich   \n441                         [not completed]   49.0   175.0   weiblich   \n442                         [not completed]   49.0   175.0   weiblich   \n\n    impfung_01_wirkstoff impfung_02_wirkstoff impfung_03_wirkstoff  \\\n0                  keine                keine                keine   \n1        Biontech/Pfizer                keine                keine   \n2        Biontech/Pfizer      Biontech/Pfizer              Moderna   \n3                Moderna              Moderna                keine   \n4        Biontech/Pfizer      Biontech/Pfizer                keine   \n..                   ...                  ...                  ...   \n438                keine                keine                keine   \n439      Biontech/Pfizer      Biontech/Pfizer                keine   \n440                keine                keine                keine   \n441                keine                keine                keine   \n442                keine                keine                keine   \n\n    impfung_04_wirkstoff impfung_01_charge impfung_02_charge  ... gelenk_2  \\\n0                  keine      Keine Angabe      Keine Angabe  ...       Ja   \n1                  keine            FE6975      Keine Angabe  ...       Ja   \n2                  keine            FD9234            FC1440  ...     Nein   \n3                  keine           3002186           3002918  ...       Ja   \n4                  keine             SCTN4            FH9678  ...       Ja   \n..                   ...               ...               ...  ...      ...   \n438                keine      Keine Angabe      Keine Angabe  ...     Nein   \n439                keine           EX 7823            FC3095  ...     Nein   \n440                keine      Keine Angabe      Keine Angabe  ...     Nein   \n441                keine      Keine Angabe      Keine Angabe  ...     Nein   \n442                keine      Keine Angabe      Keine Angabe  ...     Nein   \n\n    wahr_2 lesewort_2 schlaf_2.65 sinn_2                     sport_2  \\\n0       Ja         Ja          Ja     Ja               Eingeschränkt   \n1       Ja         Ja          Ja     Ja  Extrem stark eingeschränkt   \n2       Ja         Ja        Nein     Ja               Eingeschränkt   \n3       Ja         Ja          Ja     Ja  Extrem stark eingeschränkt   \n4       Ja         Ja        Nein     Ja               Eingeschränkt   \n..     ...        ...         ...    ...                         ...   \n438     Ja         Ja          Ja     Ja               Eingeschränkt   \n439   Nein       Nein        Nein   Nein               Eingeschränkt   \n440   Nein       Nein        Nein   Nein             Uneingeschränkt   \n441   Nein       Nein        Nein   Nein             Uneingeschränkt   \n442   Nein       Nein        Nein   Nein             Uneingeschränkt   \n\n                          soz_2 long_covid_post_covid_patient_complete  \\\n0               Uneingeschränkt                               Complete   \n1    Extrem stark eingeschränkt                               Complete   \n2                 Eingeschränkt                               Complete   \n3    Extrem stark eingeschränkt                               Complete   \n4               Uneingeschränkt                               Complete   \n..                          ...                                    ...   \n438               Eingeschränkt                               Complete   \n439             Uneingeschränkt                               Complete   \n440             Uneingeschränkt                               Complete   \n441             Uneingeschränkt                             Incomplete   \n442             Uneingeschränkt                             Incomplete   \n\n    menstruation       source  \n0        Checked  Dataframe_2  \n1        Checked  Dataframe_2  \n2      Unchecked  Dataframe_2  \n3      Unchecked  Dataframe_2  \n4        Checked  Dataframe_2  \n..           ...          ...  \n438      Checked  Dataframe_2  \n439    Unchecked  Dataframe_2  \n440    Unchecked  Dataframe_2  \n441    Unchecked  Dataframe_2  \n442    Unchecked  Dataframe_2  \n\n[443 rows x 72 columns]",
      "text/html": "<div>\n<style scoped>\n    .dataframe tbody tr th:only-of-type {\n        vertical-align: middle;\n    }\n\n    .dataframe tbody tr th {\n        vertical-align: top;\n    }\n\n    .dataframe thead th {\n        text-align: right;\n    }\n</style>\n<table border=\"1\" class=\"dataframe\">\n  <thead>\n    <tr style=\"text-align: right;\">\n      <th></th>\n      <th>long_covid_post_covid_patient_timestamp</th>\n      <th>alter</th>\n      <th>groe_e</th>\n      <th>geschlecht</th>\n      <th>impfung_01_wirkstoff</th>\n      <th>impfung_02_wirkstoff</th>\n      <th>impfung_03_wirkstoff</th>\n      <th>impfung_04_wirkstoff</th>\n      <th>impfung_01_charge</th>\n      <th>impfung_02_charge</th>\n      <th>...</th>\n      <th>gelenk_2</th>\n      <th>wahr_2</th>\n      <th>lesewort_2</th>\n      <th>schlaf_2.65</th>\n      <th>sinn_2</th>\n      <th>sport_2</th>\n      <th>soz_2</th>\n      <th>long_covid_post_covid_patient_complete</th>\n      <th>menstruation</th>\n      <th>source</th>\n    </tr>\n  </thead>\n  <tbody>\n    <tr>\n      <th>0</th>\n      <td>2022-06-24 23:26:51</td>\n      <td>49.0</td>\n      <td>155.0</td>\n      <td>weiblich</td>\n      <td>keine</td>\n      <td>keine</td>\n      <td>keine</td>\n      <td>keine</td>\n      <td>Keine Angabe</td>\n      <td>Keine Angabe</td>\n      <td>...</td>\n      <td>Ja</td>\n      <td>Ja</td>\n      <td>Ja</td>\n      <td>Ja</td>\n      <td>Ja</td>\n      <td>Eingeschränkt</td>\n      <td>Uneingeschränkt</td>\n      <td>Complete</td>\n      <td>Checked</td>\n      <td>Dataframe_2</td>\n    </tr>\n    <tr>\n      <th>1</th>\n      <td>2022-06-13 11:25:29</td>\n      <td>39.0</td>\n      <td>165.0</td>\n      <td>weiblich</td>\n      <td>Biontech/Pfizer</td>\n      <td>keine</td>\n      <td>keine</td>\n      <td>keine</td>\n      <td>FE6975</td>\n      <td>Keine Angabe</td>\n      <td>...</td>\n      <td>Ja</td>\n      <td>Ja</td>\n      <td>Ja</td>\n      <td>Ja</td>\n      <td>Ja</td>\n      <td>Extrem stark eingeschränkt</td>\n      <td>Extrem stark eingeschränkt</td>\n      <td>Complete</td>\n      <td>Checked</td>\n      <td>Dataframe_2</td>\n    </tr>\n    <tr>\n      <th>2</th>\n      <td>2022-06-13 11:28:16</td>\n      <td>39.0</td>\n      <td>175.0</td>\n      <td>weiblich</td>\n      <td>Biontech/Pfizer</td>\n      <td>Biontech/Pfizer</td>\n      <td>Moderna</td>\n      <td>keine</td>\n      <td>FD9234</td>\n      <td>FC1440</td>\n      <td>...</td>\n      <td>Nein</td>\n      <td>Ja</td>\n      <td>Ja</td>\n      <td>Nein</td>\n      <td>Ja</td>\n      <td>Eingeschränkt</td>\n      <td>Eingeschränkt</td>\n      <td>Complete</td>\n      <td>Unchecked</td>\n      <td>Dataframe_2</td>\n    </tr>\n    <tr>\n      <th>3</th>\n      <td>2022-06-25 11:36:16</td>\n      <td>29.0</td>\n      <td>175.0</td>\n      <td>weiblich</td>\n      <td>Moderna</td>\n      <td>Moderna</td>\n      <td>keine</td>\n      <td>keine</td>\n      <td>3002186</td>\n      <td>3002918</td>\n      <td>...</td>\n      <td>Ja</td>\n      <td>Ja</td>\n      <td>Ja</td>\n      <td>Ja</td>\n      <td>Ja</td>\n      <td>Extrem stark eingeschränkt</td>\n      <td>Extrem stark eingeschränkt</td>\n      <td>Complete</td>\n      <td>Unchecked</td>\n      <td>Dataframe_2</td>\n    </tr>\n    <tr>\n      <th>4</th>\n      <td>2022-06-13 11:36:43</td>\n      <td>49.0</td>\n      <td>155.0</td>\n      <td>weiblich</td>\n      <td>Biontech/Pfizer</td>\n      <td>Biontech/Pfizer</td>\n      <td>keine</td>\n      <td>keine</td>\n      <td>SCTN4</td>\n      <td>FH9678</td>\n      <td>...</td>\n      <td>Ja</td>\n      <td>Ja</td>\n      <td>Ja</td>\n      <td>Nein</td>\n      <td>Ja</td>\n      <td>Eingeschränkt</td>\n      <td>Uneingeschränkt</td>\n      <td>Complete</td>\n      <td>Checked</td>\n      <td>Dataframe_2</td>\n    </tr>\n    <tr>\n      <th>...</th>\n      <td>...</td>\n      <td>...</td>\n      <td>...</td>\n      <td>...</td>\n      <td>...</td>\n      <td>...</td>\n      <td>...</td>\n      <td>...</td>\n      <td>...</td>\n      <td>...</td>\n      <td>...</td>\n      <td>...</td>\n      <td>...</td>\n      <td>...</td>\n      <td>...</td>\n      <td>...</td>\n      <td>...</td>\n      <td>...</td>\n      <td>...</td>\n      <td>...</td>\n      <td>...</td>\n    </tr>\n    <tr>\n      <th>438</th>\n      <td>2022-06-24 18:09:48</td>\n      <td>29.0</td>\n      <td>165.0</td>\n      <td>weiblich</td>\n      <td>keine</td>\n      <td>keine</td>\n      <td>keine</td>\n      <td>keine</td>\n      <td>Keine Angabe</td>\n      <td>Keine Angabe</td>\n      <td>...</td>\n      <td>Nein</td>\n      <td>Ja</td>\n      <td>Ja</td>\n      <td>Ja</td>\n      <td>Ja</td>\n      <td>Eingeschränkt</td>\n      <td>Eingeschränkt</td>\n      <td>Complete</td>\n      <td>Checked</td>\n      <td>Dataframe_2</td>\n    </tr>\n    <tr>\n      <th>439</th>\n      <td>2022-06-24 19:44:16</td>\n      <td>29.0</td>\n      <td>185.0</td>\n      <td>Männlich</td>\n      <td>Biontech/Pfizer</td>\n      <td>Biontech/Pfizer</td>\n      <td>keine</td>\n      <td>keine</td>\n      <td>EX 7823</td>\n      <td>FC3095</td>\n      <td>...</td>\n      <td>Nein</td>\n      <td>Nein</td>\n      <td>Nein</td>\n      <td>Nein</td>\n      <td>Nein</td>\n      <td>Eingeschränkt</td>\n      <td>Uneingeschränkt</td>\n      <td>Complete</td>\n      <td>Unchecked</td>\n      <td>Dataframe_2</td>\n    </tr>\n    <tr>\n      <th>440</th>\n      <td>2022-06-24 20:19:27</td>\n      <td>59.0</td>\n      <td>175.0</td>\n      <td>Männlich</td>\n      <td>keine</td>\n      <td>keine</td>\n      <td>keine</td>\n      <td>keine</td>\n      <td>Keine Angabe</td>\n      <td>Keine Angabe</td>\n      <td>...</td>\n      <td>Nein</td>\n      <td>Nein</td>\n      <td>Nein</td>\n      <td>Nein</td>\n      <td>Nein</td>\n      <td>Uneingeschränkt</td>\n      <td>Uneingeschränkt</td>\n      <td>Complete</td>\n      <td>Unchecked</td>\n      <td>Dataframe_2</td>\n    </tr>\n    <tr>\n      <th>441</th>\n      <td>[not completed]</td>\n      <td>49.0</td>\n      <td>175.0</td>\n      <td>weiblich</td>\n      <td>keine</td>\n      <td>keine</td>\n      <td>keine</td>\n      <td>keine</td>\n      <td>Keine Angabe</td>\n      <td>Keine Angabe</td>\n      <td>...</td>\n      <td>Nein</td>\n      <td>Nein</td>\n      <td>Nein</td>\n      <td>Nein</td>\n      <td>Nein</td>\n      <td>Uneingeschränkt</td>\n      <td>Uneingeschränkt</td>\n      <td>Incomplete</td>\n      <td>Unchecked</td>\n      <td>Dataframe_2</td>\n    </tr>\n    <tr>\n      <th>442</th>\n      <td>[not completed]</td>\n      <td>49.0</td>\n      <td>175.0</td>\n      <td>weiblich</td>\n      <td>keine</td>\n      <td>keine</td>\n      <td>keine</td>\n      <td>keine</td>\n      <td>Keine Angabe</td>\n      <td>Keine Angabe</td>\n      <td>...</td>\n      <td>Nein</td>\n      <td>Nein</td>\n      <td>Nein</td>\n      <td>Nein</td>\n      <td>Nein</td>\n      <td>Uneingeschränkt</td>\n      <td>Uneingeschränkt</td>\n      <td>Incomplete</td>\n      <td>Unchecked</td>\n      <td>Dataframe_2</td>\n    </tr>\n  </tbody>\n</table>\n<p>443 rows × 72 columns</p>\n</div>"
     },
     "execution_count": 106,
     "metadata": {},
     "output_type": "execute_result"
    }
   ],
   "source": [
    "from collections import Counter\n",
    "row_error_counts = Counter(row for (row, col) in errors)\n",
    "all_rows = set(df.index)\n",
    "rows_with_errors = set(row_error_counts.keys())\n",
    "rows_with_zero_errors = all_rows - rows_with_errors\n",
    "for row in rows_with_zero_errors:\n",
    "    row_error_counts[row] = 0\n",
    "\n",
    "\n",
    "sorted_rows = sorted(row_error_counts.items(), key=lambda x: x[1])\n",
    "cleanest_50_rows = [row for row, count in sorted_rows[:443]]\n",
    "cleanest_df = df.loc[cleanest_50_rows].reset_index(drop=True)\n",
    "cleanest_df"
   ],
   "metadata": {
    "collapsed": false,
    "ExecuteTime": {
     "end_time": "2025-02-22T14:37:06.921196100Z",
     "start_time": "2025-02-22T14:37:06.891195Z"
    }
   },
   "id": "73791286906f73ae",
   "execution_count": 106
  },
  {
   "cell_type": "code",
   "outputs": [
    {
     "data": {
      "text/plain": "{}"
     },
     "execution_count": 107,
     "metadata": {},
     "output_type": "execute_result"
    }
   ],
   "source": [
    "\n",
    "errors_cleanest = {}\n",
    "errors_cleanest.update(errors_first_col(cleanest_df))\n",
    "errors_cleanest.update(errors_second_third_col(cleanest_df))\n",
    "errors_cleanest.update(errors_categorical(cleanest_df,updated_labels))\n",
    "errors_cleanest.update(errors_menstruation(cleanest_df))\n",
    "errors_cleanest.update(all_impfung_error(cleanest_df))\n",
    "errors_cleanest.update(check_vaccination_dates(cleanest_df))\n",
    "errors_cleanest.update(detect_error_textual(cleanest_df))\n",
    "errors_cleanest"
   ],
   "metadata": {
    "collapsed": false,
    "ExecuteTime": {
     "end_time": "2025-02-22T14:37:10.119420200Z",
     "start_time": "2025-02-22T14:37:09.748758400Z"
    }
   },
   "id": "d719a283aa142b90",
   "execution_count": 107
  },
  {
   "cell_type": "code",
   "outputs": [
    {
     "data": {
      "text/plain": "(443, 72)"
     },
     "execution_count": 110,
     "metadata": {},
     "output_type": "execute_result"
    }
   ],
   "source": [
    "cleanest_df.shape"
   ],
   "metadata": {
    "collapsed": false,
    "ExecuteTime": {
     "end_time": "2025-02-22T14:39:17.986316200Z",
     "start_time": "2025-02-22T14:39:17.963316600Z"
    }
   },
   "id": "b63058d5fa2e055a",
   "execution_count": 110
  },
  {
   "cell_type": "markdown",
   "source": [
    "# export clean data"
   ],
   "metadata": {
    "collapsed": false
   },
   "id": "4dc5b4622f3d2c7a"
  },
  {
   "cell_type": "code",
   "outputs": [],
   "source": [
    "cleanest_df.to_csv('clean.csv',index=False)"
   ],
   "metadata": {
    "collapsed": false,
    "ExecuteTime": {
     "end_time": "2025-02-22T14:37:54.530778400Z",
     "start_time": "2025-02-22T14:37:54.494776100Z"
    }
   },
   "id": "4381fc543112402d",
   "execution_count": 109
  },
  {
   "cell_type": "code",
   "outputs": [],
   "source": [
    "\n",
    "dirty = pd.read_csv('dirty.csv')\n",
    "errors_dirty = {}\n",
    "errors_dirty.update(errors_first_col(dirty))\n",
    "errors_dirty.update(errors_second_third_col(dirty))\n",
    "errors_dirty.update(errors_categorical(dirty,updated_labels))\n",
    "errors_dirty.update(errors_menstruation(dirty))\n",
    "errors_dirty.update(all_impfung_error(dirty))\n",
    "errors_dirty.update(check_vaccination_dates(dirty))\n",
    "errors_dirty.update(detect_error_textual(dirty))"
   ],
   "metadata": {
    "collapsed": false,
    "ExecuteTime": {
     "end_time": "2025-02-22T23:15:36.342295800Z",
     "start_time": "2025-02-22T23:15:35.883842500Z"
    }
   },
   "id": "9d7b6f5fec5f32db",
   "execution_count": 122
  },
  {
   "cell_type": "code",
   "outputs": [],
   "source": [
    "# values of our mimir evaluation\n",
    "Precision = 0.72\n",
    "Recall = 0.70\n",
    "F1 = 0.71\n",
    "\n",
    "\n",
    "Precision = 0.74\n",
    "Recall = 0.72\n",
    "F1 = 0.73\n",
    "\n",
    "\n",
    "Precision = 0.76\n",
    "Recall = 0.73\n",
    "F1 = 0.75\n"
   ],
   "metadata": {
    "collapsed": false
   },
   "id": "3613a721ebee4dbb"
  }
 ],
 "metadata": {
  "kernelspec": {
   "display_name": "Python 3",
   "language": "python",
   "name": "python3"
  },
  "language_info": {
   "codemirror_mode": {
    "name": "ipython",
    "version": 2
   },
   "file_extension": ".py",
   "mimetype": "text/x-python",
   "name": "python",
   "nbconvert_exporter": "python",
   "pygments_lexer": "ipython2",
   "version": "2.7.6"
  }
 },
 "nbformat": 4,
 "nbformat_minor": 5
}
